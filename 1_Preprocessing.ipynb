{
 "cells": [
  {
   "cell_type": "markdown",
   "id": "fa4c6956",
   "metadata": {},
   "source": [
    "#### **MovieLens 20M Dataset**\n",
    "\n",
    "The dataset is obtained [here](https://www.kaggle.com/datasets/grouplens/movielens-20m-dataset?select=link.csv)"
   ]
  },
  {
   "cell_type": "code",
   "execution_count": 105,
   "id": "6c7b9758",
   "metadata": {},
   "outputs": [],
   "source": [
    "from sentence_transformers import SentenceTransformer\n",
    "from sentence_transformers import SentenceTransformer\n",
    "import numpy as np\n",
    "import pandas as pd\n",
    "import requests\n",
    "from bs4 import BeautifulSoup\n",
    "import pandas as pd\n",
    "import re\n",
    "\n",
    "df = pd.read_csv('data/movie.csv')"
   ]
  },
  {
   "cell_type": "markdown",
   "id": "b999b111",
   "metadata": {},
   "source": [
    "Augment the dataset with movie descriptions"
   ]
  },
  {
   "cell_type": "code",
   "execution_count": 106,
   "id": "73992d57",
   "metadata": {},
   "outputs": [],
   "source": [
    "def get_full_imdb_plot(imdb_id):\n",
    "    full_imdb_id = f\"tt{int(imdb_id):07d}\"\n",
    "    url = f\"https://www.imdb.com/title/{full_imdb_id}/plotsummary\"\n",
    "    headers = {\n",
    "        \"User-Agent\": \"Mozilla/5.0 (Windows NT 10.0; Win64; x64)\",\n",
    "        \"Accept-Language\": \"en-US,en;q=0.9\",\n",
    "        \"Referer\": f\"https://www.imdb.com/title/{full_imdb_id}/\"\n",
    "    }\n",
    "    \n",
    "    try:\n",
    "        response = requests.get(url, headers=headers, timeout=20)\n",
    "        response.raise_for_status()\n",
    "        soup = BeautifulSoup(response.text, 'html.parser')\n",
    "        \n",
    "        plot_containers = soup.select(\".ipc-html-content-inner-div\")\n",
    "        \n",
    "        if plot_containers:\n",
    "            full_text = max([p.get_text(separator=\" \", strip=True) for p in plot_containers], key=len)\n",
    "            \n",
    "            clean_text = re.sub(r'\\s*\\.\\.\\.\\s*Read (full )?(summary|all).*$', '', full_text, flags=re.IGNORECASE)\n",
    "            \n",
    "            return clean_text\n",
    "        \n",
    "        return get_plot_from_main_page(full_imdb_id)\n",
    "    \n",
    "    except Exception as e:\n",
    "        return np.nan\n",
    "\n",
    "def get_plot_from_main_page(imdb_id):\n",
    "    url = f\"https://www.imdb.com/title/{imdb_id}/\"\n",
    "    headers = {\n",
    "        \"User-Agent\": \"Mozilla/5.0 (Windows NT 10.0; Win64; x64)\",\n",
    "        \"Accept-Language\": \"en-US,en;q=0.9\"\n",
    "    }\n",
    "    \n",
    "    try:\n",
    "        response = requests.get(url, headers=headers, timeout=20)\n",
    "        response.raise_for_status()\n",
    "        soup = BeautifulSoup(response.text, 'html.parser')\n",
    "        \n",
    "        full_plot = soup.find(\"span\", {\"data-testid\": \"plot-xl\"})\n",
    "        if full_plot:\n",
    "            return full_plot.text.strip()\n",
    "        \n",
    "        short_plot = soup.find(\"span\", {\"data-testid\": \"plot-l\"})\n",
    "        if short_plot:\n",
    "            return short_plot.text.strip()\n",
    "        \n",
    "        summary = soup.find(\"div\", class_=\"summary_text\")\n",
    "        if summary:\n",
    "            return summary.text.strip()\n",
    "        \n",
    "        return \"Empty\"\n",
    "    \n",
    "    except Exception as e:\n",
    "        return None\n",
    "\n",
    "\n",
    "def clean_description(description):\n",
    "    if description is np.nan:\n",
    "        return np.nan\n",
    "    description = re.sub(r\"—\\s*Julian\\s*Reischl\\s*<.*?>\", \"\", description, flags=re.IGNORECASE)\n",
    "    \n",
    "    description = re.sub(r\"\\bStar[ -]?Child\\b\", \"\", description, flags=re.IGNORECASE)\n",
    "    \n",
    "    description = re.sub(r\"\\S+@\\S+\\.\\S+\", \"\", description)\n",
    "    \n",
    "    if \".\" in description:\n",
    "        description = description.rsplit(\".\", 1)[0] + \".\"\n",
    "    \n",
    "    return description.strip()"
   ]
  },
  {
   "cell_type": "code",
   "execution_count": null,
   "id": "de6138b5",
   "metadata": {},
   "outputs": [],
   "source": [
    "movies = pd.read_csv(\"movie.csv\")\n",
    "links = pd.read_csv(\"link.csv\")\n",
    "\n",
    "merged = pd.merge(movies, links, on=\"movieId\", how=\"left\")\n",
    "\n",
    "descriptions = []\n",
    "for idx, row in merged.iterrows():\n",
    "    description = clean_description(get_full_imdb_plot(row[\"imdbId\"]))\n",
    "    descriptions.append(description)\n",
    "\n",
    "merged[\"description\"] = descriptions\n",
    "\n",
    "df = merged.drop(['imdbId', 'tmdbId'], axis=1)"
   ]
  },
  {
   "cell_type": "code",
   "execution_count": 12,
   "id": "e68b6f71",
   "metadata": {},
   "outputs": [],
   "source": [
    "df['text'] = df['description'] + ' (' + df['genres'].apply(lambda x: ', '.join(x.split('|'))) + ')'"
   ]
  },
  {
   "cell_type": "code",
   "execution_count": null,
   "id": "bcda563b",
   "metadata": {},
   "outputs": [],
   "source": [
    "model = SentenceTransformer('sentence-transformers/paraphrase-multilingual-mpnet-base-v2')\n",
    "\n",
    "sentences = df['text'].to_numpy()\n",
    "\n",
    "embeddings = model.encode(\n",
    "    sentences,\n",
    "    batch_size=32,\n",
    "    convert_to_numpy=True\n",
    ")\n",
    "\n",
    "df['embedding'] = list(embeddings)"
   ]
  },
  {
   "cell_type": "code",
   "execution_count": 87,
   "id": "c18bf64c",
   "metadata": {},
   "outputs": [],
   "source": [
    "for idx, row in df[df['description'].apply(lambda x: \"Read all\" in str(x))].iterrows():\n",
    "    df.loc[idx, ['description']] = np.nan"
   ]
  },
  {
   "cell_type": "code",
   "execution_count": 164,
   "id": "ed45c84d",
   "metadata": {},
   "outputs": [
    {
     "data": {
      "text/html": [
       "<div>\n",
       "<style scoped>\n",
       "    .dataframe tbody tr th:only-of-type {\n",
       "        vertical-align: middle;\n",
       "    }\n",
       "\n",
       "    .dataframe tbody tr th {\n",
       "        vertical-align: top;\n",
       "    }\n",
       "\n",
       "    .dataframe thead th {\n",
       "        text-align: right;\n",
       "    }\n",
       "</style>\n",
       "<table border=\"1\" class=\"dataframe\">\n",
       "  <thead>\n",
       "    <tr style=\"text-align: right;\">\n",
       "      <th></th>\n",
       "      <th>movieId</th>\n",
       "      <th>title</th>\n",
       "      <th>genres</th>\n",
       "      <th>imdbId</th>\n",
       "      <th>tmdbId</th>\n",
       "      <th>description</th>\n",
       "      <th>text</th>\n",
       "      <th>embedding</th>\n",
       "    </tr>\n",
       "  </thead>\n",
       "  <tbody>\n",
       "    <tr>\n",
       "      <th>708</th>\n",
       "      <td>720</td>\n",
       "      <td>Wallace &amp; Gromit: The Best of Aardman Animatio...</td>\n",
       "      <td>Adventure|Animation|Comedy</td>\n",
       "      <td>118114</td>\n",
       "      <td>NaN</td>\n",
       "      <td>NaN</td>\n",
       "      <td>NaN</td>\n",
       "      <td>NaN</td>\n",
       "    </tr>\n",
       "    <tr>\n",
       "      <th>17126</th>\n",
       "      <td>86668</td>\n",
       "      <td>Louis Theroux: Law &amp; Disorder (2008)</td>\n",
       "      <td>Documentary</td>\n",
       "      <td>1347439</td>\n",
       "      <td>241620.0</td>\n",
       "      <td>NaN</td>\n",
       "      <td>NaN</td>\n",
       "      <td>NaN</td>\n",
       "    </tr>\n",
       "  </tbody>\n",
       "</table>\n",
       "</div>"
      ],
      "text/plain": [
       "       movieId                                              title  \\\n",
       "708        720  Wallace & Gromit: The Best of Aardman Animatio...   \n",
       "17126    86668               Louis Theroux: Law & Disorder (2008)   \n",
       "\n",
       "                           genres   imdbId    tmdbId description text  \\\n",
       "708    Adventure|Animation|Comedy   118114       NaN         NaN  NaN   \n",
       "17126                 Documentary  1347439  241620.0         NaN  NaN   \n",
       "\n",
       "      embedding  \n",
       "708         NaN  \n",
       "17126       NaN  "
      ]
     },
     "execution_count": 164,
     "metadata": {},
     "output_type": "execute_result"
    }
   ],
   "source": [
    "df[df['text'].apply(lambda x: x is np.nan)]"
   ]
  },
  {
   "cell_type": "markdown",
   "id": "25d9d2b3",
   "metadata": {},
   "source": [
    "No description found. Consider as empty:"
   ]
  },
  {
   "cell_type": "code",
   "execution_count": 237,
   "id": "a36e8ffe",
   "metadata": {},
   "outputs": [],
   "source": [
    "df.at[17126, 'embedding'] = np.zeros(768)\n",
    "df.at[708, 'embedding'] = np.zeros(768)"
   ]
  },
  {
   "cell_type": "markdown",
   "id": "e38d1339",
   "metadata": {},
   "source": [
    "PCA (saving 95% of variance)"
   ]
  },
  {
   "cell_type": "code",
   "execution_count": 238,
   "id": "7ca291cb",
   "metadata": {},
   "outputs": [],
   "source": [
    "embeddings = df['embedding'].to_numpy()\n",
    "embeddings_list = [vec for vec in embeddings]\n",
    "embeddings_matrix = np.vstack(embeddings_list)"
   ]
  },
  {
   "cell_type": "code",
   "execution_count": 239,
   "id": "ab3e7e5f",
   "metadata": {},
   "outputs": [],
   "source": [
    "pca = PCA(n_components=0.99)\n",
    "compressed_embeddings = pca.fit_transform(embeddings_matrix)"
   ]
  },
  {
   "cell_type": "markdown",
   "id": "ba7ff9f7",
   "metadata": {},
   "source": [
    "From 768 to 206"
   ]
  },
  {
   "cell_type": "code",
   "execution_count": 240,
   "id": "d44a2242",
   "metadata": {},
   "outputs": [
    {
     "data": {
      "text/plain": [
       "(27278, 409)"
      ]
     },
     "execution_count": 240,
     "metadata": {},
     "output_type": "execute_result"
    }
   ],
   "source": [
    "compressed_embeddings.shape"
   ]
  },
  {
   "cell_type": "code",
   "execution_count": 241,
   "id": "1a5b6341",
   "metadata": {},
   "outputs": [],
   "source": [
    "compressed_embeddings = [row for row in compressed_embeddings]\n",
    "df['embedding'] = compressed_embeddings"
   ]
  },
  {
   "cell_type": "code",
   "execution_count": 242,
   "id": "3fa97fc4",
   "metadata": {},
   "outputs": [],
   "source": [
    "df.to_csv('data/preprocessed_movie.csv')"
   ]
  }
 ],
 "metadata": {
  "kernelspec": {
   "display_name": "Python 3",
   "language": "python",
   "name": "python3"
  },
  "language_info": {
   "codemirror_mode": {
    "name": "ipython",
    "version": 3
   },
   "file_extension": ".py",
   "mimetype": "text/x-python",
   "name": "python",
   "nbconvert_exporter": "python",
   "pygments_lexer": "ipython3",
   "version": "3.13.0"
  }
 },
 "nbformat": 4,
 "nbformat_minor": 5
}
